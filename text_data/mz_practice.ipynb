{
 "cells": [
  {
   "cell_type": "markdown",
   "id": "3dcaa50a",
   "metadata": {},
   "source": [
    "## 어바웃타임 줄거리 텍스트 data exploration"
   ]
  },
  {
   "cell_type": "code",
   "execution_count": 13,
   "id": "96aa5adb",
   "metadata": {},
   "outputs": [],
   "source": [
    "import nltk\n",
    "from nltk.corpus import stopwords\n",
    "from collections import Counter"
   ]
  },
  {
   "cell_type": "code",
   "execution_count": 26,
   "id": "19e9ddf9",
   "metadata": {},
   "outputs": [],
   "source": [
    "stop_words = stopwords.words(\"english\")\n",
    "stop_words.append(\"@\")\n",
    "stop_words.append(\"-\")\n",
    "stop_words.append(\"--\")\n",
    "stop_words.append(',')\n",
    "stop_words.append('.')\n",
    "stop_words.append('’')\n",
    "stop_words.append('”')\n",
    "stop_words.append('—')\n",
    "stop_words.append('``')\n",
    "stop_words.append(\"''\")"
   ]
  },
  {
   "cell_type": "code",
   "execution_count": 27,
   "id": "77b8180a",
   "metadata": {},
   "outputs": [],
   "source": [
    "file = open('aboutTime.txt', 'r', encoding=\"utf-8\")\n",
    "lines = file.readlines()"
   ]
  },
  {
   "cell_type": "code",
   "execution_count": 28,
   "id": "19d51274",
   "metadata": {},
   "outputs": [
    {
     "name": "stdout",
     "output_type": "stream",
     "text": [
      "['\"About Time\" is a 2013 @ British romantic fantasy film. The story revolves around Tim Lake, a typical - young man in the UK @ who discovers a unique ability. His father reveals a family secret that -- the men in their family can travel back in time. With this newfound power, Tim can relive and modify events in his life. Using this special - ability, Tim navigates -- through his life in search of love and manipulates various - -- events. However, as he manipulates time, he experiences unexpected consequences and sacrifices. Through this journey, he comes to realize that @ @ @ the ability to turn back time doesn\\'t solve all of life\\'s problems. The @ @ film explores themes of romance, family, and the limitations of altering one\\'s past.']\n"
     ]
    }
   ],
   "source": [
    "print(lines)"
   ]
  },
  {
   "cell_type": "code",
   "execution_count": 29,
   "id": "61c2e8f3",
   "metadata": {},
   "outputs": [],
   "source": [
    "tokens = []\n",
    "for line in lines : \n",
    "    tokenized = nltk.word_tokenize(line)\n",
    "    for token in tokenized:\n",
    "        if token.lower() not in stop_words:\n",
    "            tokens.append(token)"
   ]
  },
  {
   "cell_type": "code",
   "execution_count": 30,
   "id": "63ea49e5",
   "metadata": {},
   "outputs": [
    {
     "data": {
      "text/plain": [
       "['Time',\n",
       " '2013',\n",
       " 'British',\n",
       " 'romantic',\n",
       " 'fantasy',\n",
       " 'film',\n",
       " 'story',\n",
       " 'revolves',\n",
       " 'around',\n",
       " 'Tim',\n",
       " 'Lake',\n",
       " 'typical',\n",
       " 'young',\n",
       " 'man',\n",
       " 'UK',\n",
       " 'discovers',\n",
       " 'unique',\n",
       " 'ability',\n",
       " 'father',\n",
       " 'reveals',\n",
       " 'family',\n",
       " 'secret',\n",
       " 'men',\n",
       " 'family',\n",
       " 'travel',\n",
       " 'back',\n",
       " 'time',\n",
       " 'newfound',\n",
       " 'power',\n",
       " 'Tim',\n",
       " 'relive',\n",
       " 'modify',\n",
       " 'events',\n",
       " 'life',\n",
       " 'Using',\n",
       " 'special',\n",
       " 'ability',\n",
       " 'Tim',\n",
       " 'navigates',\n",
       " 'life',\n",
       " 'search',\n",
       " 'love',\n",
       " 'manipulates',\n",
       " 'various',\n",
       " 'events',\n",
       " 'However',\n",
       " 'manipulates',\n",
       " 'time',\n",
       " 'experiences',\n",
       " 'unexpected',\n",
       " 'consequences',\n",
       " 'sacrifices',\n",
       " 'journey',\n",
       " 'comes',\n",
       " 'realize',\n",
       " 'ability',\n",
       " 'turn',\n",
       " 'back',\n",
       " 'time',\n",
       " \"n't\",\n",
       " 'solve',\n",
       " 'life',\n",
       " \"'s\",\n",
       " 'problems',\n",
       " 'film',\n",
       " 'explores',\n",
       " 'themes',\n",
       " 'romance',\n",
       " 'family',\n",
       " 'limitations',\n",
       " 'altering',\n",
       " 'one',\n",
       " \"'s\",\n",
       " 'past']"
      ]
     },
     "execution_count": 30,
     "metadata": {},
     "output_type": "execute_result"
    }
   ],
   "source": [
    "tokens"
   ]
  },
  {
   "cell_type": "code",
   "execution_count": 36,
   "id": "2cae0782",
   "metadata": {},
   "outputs": [],
   "source": [
    "tags = nltk.pos_tag(tokens)\n",
    "\n",
    "wordList=[]\n",
    "\n",
    "for word,tag in tags : \n",
    "    if tag.startswith('N'):\n",
    "        wordList.append(word.lower())"
   ]
  },
  {
   "cell_type": "code",
   "execution_count": 37,
   "id": "dc9dbc87",
   "metadata": {},
   "outputs": [
    {
     "name": "stdout",
     "output_type": "stream",
     "text": [
      "['time', 'fantasy', 'film', 'story', 'tim', 'lake', 'man', 'uk', 'ability', 'father', 'reveals', 'family', 'men', 'family', 'time', 'power', 'tim', 'modify', 'events', 'life', 'using', 'ability', 'tim', 'life', 'search', 'events', 'manipulates', 'time', 'experiences', 'consequences', 'sacrifices', 'journey', 'ability', 'time', 'life', 'problems', 'film', 'themes', 'family', 'limitations', 'past']\n"
     ]
    }
   ],
   "source": [
    "print(wordList)"
   ]
  },
  {
   "cell_type": "code",
   "execution_count": 38,
   "id": "424b134d",
   "metadata": {},
   "outputs": [],
   "source": [
    "counts = Counter(wordList)"
   ]
  },
  {
   "cell_type": "code",
   "execution_count": 41,
   "id": "f56530ef",
   "metadata": {},
   "outputs": [
    {
     "name": "stdout",
     "output_type": "stream",
     "text": [
      "[('time', 4), ('tim', 3), ('ability', 3), ('family', 3), ('life', 3)]\n"
     ]
    }
   ],
   "source": [
    "print(counts.most_common(5))"
   ]
  },
  {
   "cell_type": "markdown",
   "id": "8368bd1e",
   "metadata": {},
   "source": [
    "#### 정규 표현식 적용"
   ]
  },
  {
   "cell_type": "code",
   "execution_count": 71,
   "id": "004734ec",
   "metadata": {},
   "outputs": [],
   "source": [
    "import matplotlib.pyplot as plt\n",
    "import re\n",
    "\n",
    "stop_words = stopwords.words(\"english\")\n",
    "stop_words.append(\"'s\")\n",
    "\n",
    "file = open('aboutTime.txt', 'r', encoding='utf-8')\n",
    "lines = file.readlines()\n",
    "\n",
    "tokens=[]\n",
    "\n",
    "for line in lines:\n",
    "    tokenized = nltk.word_tokenize(line)\n",
    "    for token in tokenized:\n",
    "        if token.lower() not in stop_words:\n",
    "            if re.match('[a-zA-Z]+', token):\n",
    "                tokens.append(token)"
   ]
  },
  {
   "cell_type": "code",
   "execution_count": 72,
   "id": "a0b04103",
   "metadata": {},
   "outputs": [
    {
     "name": "stdout",
     "output_type": "stream",
     "text": [
      "['``', 'About', 'Time', \"''\", 'is', 'a', '2013', '@', 'British', 'romantic', 'fantasy', 'film', '.', 'The', 'story', 'revolves', 'around', 'Tim', 'Lake', ',', 'a', 'typical', '-', 'young', 'man', 'in', 'the', 'UK', '@', 'who', 'discovers', 'a', 'unique', 'ability', '.', 'His', 'father', 'reveals', 'a', 'family', 'secret', 'that', '--', 'the', 'men', 'in', 'their', 'family', 'can', 'travel', 'back', 'in', 'time', '.', 'With', 'this', 'newfound', 'power', ',', 'Tim', 'can', 'relive', 'and', 'modify', 'events', 'in', 'his', 'life', '.', 'Using', 'this', 'special', '-', 'ability', ',', 'Tim', 'navigates', '--', 'through', 'his', 'life', 'in', 'search', 'of', 'love', 'and', 'manipulates', 'various', '-', '--', 'events', '.', 'However', ',', 'as', 'he', 'manipulates', 'time', ',', 'he', 'experiences', 'unexpected', 'consequences', 'and', 'sacrifices', '.', 'Through', 'this', 'journey', ',', 'he', 'comes', 'to', 'realize', 'that', '@', '@', '@', 'the', 'ability', 'to', 'turn', 'back', 'time', 'does', \"n't\", 'solve', 'all', 'of', 'life', \"'s\", 'problems', '.', 'The', '@', '@', 'film', 'explores', 'themes', 'of', 'romance', ',', 'family', ',', 'and', 'the', 'limitations', 'of', 'altering', 'one', \"'s\", 'past', '.']\n"
     ]
    }
   ],
   "source": [
    "print(tokenized)"
   ]
  },
  {
   "cell_type": "code",
   "execution_count": 75,
   "id": "20aeb086",
   "metadata": {},
   "outputs": [],
   "source": [
    "corpus = nltk.Text(tokens)"
   ]
  },
  {
   "cell_type": "code",
   "execution_count": 76,
   "id": "bac3635e",
   "metadata": {},
   "outputs": [
    {
     "data": {
      "text/plain": [
       "['Time',\n",
       " 'British',\n",
       " 'romantic',\n",
       " 'fantasy',\n",
       " 'film',\n",
       " 'story',\n",
       " 'revolves',\n",
       " 'around',\n",
       " 'Tim',\n",
       " 'Lake',\n",
       " 'typical',\n",
       " 'young',\n",
       " 'man',\n",
       " 'UK',\n",
       " 'discovers',\n",
       " 'unique',\n",
       " 'ability',\n",
       " 'father',\n",
       " 'reveals',\n",
       " 'family',\n",
       " 'secret',\n",
       " 'men',\n",
       " 'family',\n",
       " 'travel',\n",
       " 'back',\n",
       " 'time',\n",
       " 'newfound',\n",
       " 'power',\n",
       " 'Tim',\n",
       " 'relive',\n",
       " 'modify',\n",
       " 'events',\n",
       " 'life',\n",
       " 'Using',\n",
       " 'special',\n",
       " 'ability',\n",
       " 'Tim',\n",
       " 'navigates',\n",
       " 'life',\n",
       " 'search',\n",
       " 'love',\n",
       " 'manipulates',\n",
       " 'various',\n",
       " 'events',\n",
       " 'However',\n",
       " 'manipulates',\n",
       " 'time',\n",
       " 'experiences',\n",
       " 'unexpected',\n",
       " 'consequences',\n",
       " 'sacrifices',\n",
       " 'journey',\n",
       " 'comes',\n",
       " 'realize',\n",
       " 'ability',\n",
       " 'turn',\n",
       " 'back',\n",
       " 'time',\n",
       " \"n't\",\n",
       " 'solve',\n",
       " 'life',\n",
       " 'problems',\n",
       " 'film',\n",
       " 'explores',\n",
       " 'themes',\n",
       " 'romance',\n",
       " 'family',\n",
       " 'limitations',\n",
       " 'altering',\n",
       " 'one',\n",
       " 'past']"
      ]
     },
     "execution_count": 76,
     "metadata": {},
     "output_type": "execute_result"
    }
   ],
   "source": [
    "corpus.tokens"
   ]
  },
  {
   "cell_type": "code",
   "execution_count": 79,
   "id": "e8369c44",
   "metadata": {},
   "outputs": [
    {
     "data": {
      "image/png": "[encoded data removed]",
      "text/plain": [
       "<Figure size 1000x300 with 1 Axes>"
      ]
     },
     "metadata": {},
     "output_type": "display_data"
    },
    {
     "data": {
      "text/plain": [
       "<Axes: title={'center': 'Top 5 Words'}, xlabel='Samples', ylabel='Counts'>"
      ]
     },
     "execution_count": 79,
     "metadata": {},
     "output_type": "execute_result"
    }
   ],
   "source": [
    "plt.figure(figsize=(10,3))\n",
    "plt.title('Top 5 Words', fontsize=30)\n",
    "\n",
    "corpus.plot(10)"
   ]
  },
  {
   "cell_type": "code",
   "execution_count": null,
   "id": "52c11198",
   "metadata": {},
   "outputs": [],
   "source": []
  },
  {
   "cell_type": "code",
   "execution_count": null,
   "id": "85520a5b",
   "metadata": {},
   "outputs": [],
   "source": []
  },
  {
   "cell_type": "code",
   "execution_count": null,
   "id": "dda8c4dd",
   "metadata": {},
   "outputs": [],
   "source": []
  },
  {
   "cell_type": "code",
   "execution_count": null,
   "id": "636b3b87",
   "metadata": {},
   "outputs": [],
   "source": []
  }
 ],
 "metadata": {
  "kernelspec": {
   "display_name": "Python 3 (ipykernel)",
   "language": "python",
   "name": "python3"
  },
  "language_info": {
   "codemirror_mode": {
    "name": "ipython",
    "version": 3
   },
   "file_extension": ".py",
   "mimetype": "text/x-python",
   "name": "python",
   "nbconvert_exporter": "python",
   "pygments_lexer": "ipython3",
   "version": "3.11.5"
  }
 },
 "nbformat": 4,
 "nbformat_minor": 5
}
